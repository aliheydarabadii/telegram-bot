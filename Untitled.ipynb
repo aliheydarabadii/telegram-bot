{
 "cells": [
  {
   "cell_type": "code",
   "execution_count": 5,
   "id": "c0e7d760-82f3-4a60-947a-f07bf5c18c43",
   "metadata": {},
   "outputs": [
    {
     "ename": "ModuleNotFoundError",
     "evalue": "No module named 'telegram'",
     "output_type": "error",
     "traceback": [
      "\u001b[0;31m---------------------------------------------------------------------------\u001b[0m",
      "\u001b[0;31mModuleNotFoundError\u001b[0m                       Traceback (most recent call last)",
      "Cell \u001b[0;32mIn[5], line 1\u001b[0m\n\u001b[0;32m----> 1\u001b[0m \u001b[38;5;28;01mfrom\u001b[39;00m \u001b[38;5;21;01mtelegram\u001b[39;00m\u001b[38;5;21;01m.\u001b[39;00m\u001b[38;5;21;01mext\u001b[39;00m \u001b[38;5;28;01mimport\u001b[39;00m Updater, CommandHandler, MessageHandler, Filters\n\u001b[1;32m      2\u001b[0m \u001b[38;5;28;01mimport\u001b[39;00m \u001b[38;5;21;01mlogging\u001b[39;00m\n\u001b[1;32m      4\u001b[0m \u001b[38;5;66;03m# Enable logging\u001b[39;00m\n",
      "\u001b[0;31mModuleNotFoundError\u001b[0m: No module named 'telegram'"
     ]
    }
   ],
   "source": [
    "from telegram.ext import Updater, CommandHandler, MessageHandler, Filters\n",
    "import logging\n",
    "\n",
    "# Enable logging\n",
    "logging.basicConfig(format='%(asctime)s - %(name)s - %(levelname)s - %(message)s',\n",
    "                     level=logging.INFO)\n",
    "logger = logging.getLogger(__name__)\n",
    "\n",
    "# Define command handlers\n",
    "def start(update, context):\n",
    "    \"\"\"Respond to /start command.\"\"\"\n",
    "    update.message.reply_text('Hello!')\n",
    "\n",
    "def help_command(update, context):\n",
    "    \"\"\"Respond to /help command.\"\"\"\n",
    "    update.message.reply_text('Help!')\n",
    "\n",
    "def echo(update, context):\n",
    "    \"\"\"Echo the user message.\"\"\"\n",
    "    update.message.reply_text(update.message.text)\n",
    "\n",
    "def error(update, context):\n",
    "    \"\"\"Log errors.\"\"\"\n",
    "    logger.warning('Update \"%s\" caused error \"%s\"', update, context.error)\n",
    "\n",
    "def main():\n",
    "    \"\"\"Start the bot.\"\"\"\n",
    "    TOKEN = 'YOUR_TELEGRAM_BOT_TOKEN'  # Replace with your bot's token\n",
    "    updater = Updater(TOKEN, use_context=True)\n",
    "\n",
    "    dp = updater.dispatcher\n",
    "\n",
    "    dp.add_handler(CommandHandler(\"start\", start))\n",
    "    dp.add_handler(CommandHandler(\"help\", help_command))\n",
    "    dp.add_handler(MessageHandler(Filters.text & ~Filters.command, echo))\n",
    "    dp.add_error_handler(error)\n",
    "\n",
    "    updater.start_polling()\n",
    "    updater.idle()\n",
    "\n",
    "if __name__ == '__main__':\n",
    "    main()\n"
   ]
  },
  {
   "cell_type": "code",
   "execution_count": 4,
   "id": "2f9cb909-8caa-499f-932c-b7c4ab38946f",
   "metadata": {},
   "outputs": [
    {
     "name": "stdout",
     "output_type": "stream",
     "text": [
      "Requirement already satisfied: python-telegram-bot in /Users/aliheydarabadii/.local/share/virtualenvs/ali-7BhwAY-B/lib/python3.11/site-packages (20.7)\n",
      "Requirement already satisfied: httpx~=0.25.2 in /Users/aliheydarabadii/.local/share/virtualenvs/ali-7BhwAY-B/lib/python3.11/site-packages (from python-telegram-bot) (0.25.2)\n",
      "Requirement already satisfied: anyio in /Users/aliheydarabadii/.local/share/virtualenvs/ali-7BhwAY-B/lib/python3.11/site-packages (from httpx~=0.25.2->python-telegram-bot) (4.1.0)\n",
      "Requirement already satisfied: certifi in /Users/aliheydarabadii/.local/share/virtualenvs/ali-7BhwAY-B/lib/python3.11/site-packages (from httpx~=0.25.2->python-telegram-bot) (2023.11.17)\n",
      "Requirement already satisfied: httpcore==1.* in /Users/aliheydarabadii/.local/share/virtualenvs/ali-7BhwAY-B/lib/python3.11/site-packages (from httpx~=0.25.2->python-telegram-bot) (1.0.2)\n",
      "Requirement already satisfied: idna in /Users/aliheydarabadii/.local/share/virtualenvs/ali-7BhwAY-B/lib/python3.11/site-packages (from httpx~=0.25.2->python-telegram-bot) (3.6)\n",
      "Requirement already satisfied: sniffio in /Users/aliheydarabadii/.local/share/virtualenvs/ali-7BhwAY-B/lib/python3.11/site-packages (from httpx~=0.25.2->python-telegram-bot) (1.3.0)\n",
      "Requirement already satisfied: h11<0.15,>=0.13 in /Users/aliheydarabadii/.local/share/virtualenvs/ali-7BhwAY-B/lib/python3.11/site-packages (from httpcore==1.*->httpx~=0.25.2->python-telegram-bot) (0.14.0)\n"
     ]
    }
   ],
   "source": [
    "!pip install python-telegram-bot\n"
   ]
  }
 ],
 "metadata": {
  "kernelspec": {
   "display_name": "Python 3 (ipykernel)",
   "language": "python",
   "name": "python3"
  },
  "language_info": {
   "codemirror_mode": {
    "name": "ipython",
    "version": 3
   },
   "file_extension": ".py",
   "mimetype": "text/x-python",
   "name": "python",
   "nbconvert_exporter": "python",
   "pygments_lexer": "ipython3",
   "version": "3.11.6"
  }
 },
 "nbformat": 4,
 "nbformat_minor": 5
}
